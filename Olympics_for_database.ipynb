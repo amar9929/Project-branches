{
 "cells": [
  {
   "cell_type": "code",
   "execution_count": 1,
   "id": "cfa5ce89",
   "metadata": {
    "scrolled": true
   },
   "outputs": [
    {
     "name": "stdout",
     "output_type": "stream",
     "text": [
      "Requirement already satisfied: pandas in /Users/ironhackpmmexico/anaconda3/lib/python3.11/site-packages (2.0.3)\n",
      "Requirement already satisfied: python-dateutil>=2.8.2 in /Users/ironhackpmmexico/anaconda3/lib/python3.11/site-packages (from pandas) (2.8.2)\n",
      "Requirement already satisfied: pytz>=2020.1 in /Users/ironhackpmmexico/anaconda3/lib/python3.11/site-packages (from pandas) (2023.3.post1)\n",
      "Requirement already satisfied: tzdata>=2022.1 in /Users/ironhackpmmexico/anaconda3/lib/python3.11/site-packages (from pandas) (2023.3)\n",
      "Requirement already satisfied: numpy>=1.21.0 in /Users/ironhackpmmexico/anaconda3/lib/python3.11/site-packages (from pandas) (1.24.3)\n",
      "Requirement already satisfied: six>=1.5 in /Users/ironhackpmmexico/anaconda3/lib/python3.11/site-packages (from python-dateutil>=2.8.2->pandas) (1.16.0)\n",
      "Note: you may need to restart the kernel to use updated packages.\n"
     ]
    }
   ],
   "source": [
    "pip install pandas"
   ]
  },
  {
   "cell_type": "code",
   "execution_count": 2,
   "id": "271dc8e7",
   "metadata": {},
   "outputs": [],
   "source": [
    "import pandas as pd"
   ]
  },
  {
   "cell_type": "code",
   "execution_count": 3,
   "id": "a96a7b9b",
   "metadata": {},
   "outputs": [
    {
     "name": "stdout",
     "output_type": "stream",
     "text": [
      "Requirement already satisfied: pandas in /Users/ironhackpmmexico/anaconda3/lib/python3.11/site-packages (2.0.3)\n",
      "Requirement already satisfied: psycopg2 in /Users/ironhackpmmexico/anaconda3/lib/python3.11/site-packages (2.9.9)\n",
      "Requirement already satisfied: python-dateutil>=2.8.2 in /Users/ironhackpmmexico/anaconda3/lib/python3.11/site-packages (from pandas) (2.8.2)\n",
      "Requirement already satisfied: pytz>=2020.1 in /Users/ironhackpmmexico/anaconda3/lib/python3.11/site-packages (from pandas) (2023.3.post1)\n",
      "Requirement already satisfied: tzdata>=2022.1 in /Users/ironhackpmmexico/anaconda3/lib/python3.11/site-packages (from pandas) (2023.3)\n",
      "Requirement already satisfied: numpy>=1.21.0 in /Users/ironhackpmmexico/anaconda3/lib/python3.11/site-packages (from pandas) (1.24.3)\n",
      "Requirement already satisfied: six>=1.5 in /Users/ironhackpmmexico/anaconda3/lib/python3.11/site-packages (from python-dateutil>=2.8.2->pandas) (1.16.0)\n",
      "Note: you may need to restart the kernel to use updated packages.\n"
     ]
    }
   ],
   "source": [
    "pip install pandas psycopg2"
   ]
  },
  {
   "cell_type": "code",
   "execution_count": 9,
   "id": "f08d64a8",
   "metadata": {},
   "outputs": [],
   "source": [
    "import psycopg2 #FOR WORKBENCH, A DIFFERENT LIBRARY IS REQUIRED"
   ]
  },
  {
   "cell_type": "code",
   "execution_count": 10,
   "id": "e947ac50",
   "metadata": {},
   "outputs": [],
   "source": [
    "from sqlalchemy import create_engine"
   ]
  },
  {
   "cell_type": "code",
   "execution_count": 11,
   "id": "6e799f56",
   "metadata": {},
   "outputs": [],
   "source": [
    "Olympic_Athlete = pd.read_csv(\"/Users/ironhackpmmexico/Documents/GitHub/DA-Bootcamp/Olympics_Project/Olympic_Athlete_Bio.csv\")\n",
    "Olympic_Athlete_Event_Result = pd.read_csv(\"/Users/ironhackpmmexico/Documents/GitHub/DA-Bootcamp/Olympics_Project/Olympic_Athlete_Event_Results.csv\")\n",
    "Olympic_Games_Medal_Tally = pd.read_csv(\"/Users/ironhackpmmexico/Documents/GitHub/DA-Bootcamp/Olympics_Project/Olympic_Games_Medal_Tally.csv\")\n",
    "Olympic_Results = pd.read_csv(\"/Users/ironhackpmmexico/Documents/GitHub/DA-Bootcamp/Olympics_Project/Olympic_Results.csv\")\n",
    "Olympics_Country =pd.read_csv(\"/Users/ironhackpmmexico/Documents/GitHub/DA-Bootcamp/Olympics_Project/Olympics_Country.csv\")\n",
    "Olympics_Games = pd.read_csv(\"/Users/ironhackpmmexico/Documents/GitHub/DA-Bootcamp/Olympics_Project/Olympics_Games.csv\")"
   ]
  },
  {
   "cell_type": "code",
   "execution_count": 12,
   "id": "ef164bdc",
   "metadata": {},
   "outputs": [],
   "source": [
    "connection_params ={\n",
    "    \"host\": \"127,0,0,1\",\n",
    "    \"port\": \"5432\",\n",
    "    \"database\": \"Olympics\",\n",
    "    \"user\":\"postgres\",\n",
    "    \"password\":\"*****\",#YOUR PASSWORD\n",
    "}\n",
    "connection = psycopg2.connect(**connection_params)"
   ]
  },
  {
   "cell_type": "code",
   "execution_count": 14,
   "id": "b4d2d47d",
   "metadata": {},
   "outputs": [],
   "source": [
    "engine = create_engine(f'postgresql://{connection_params[\"user\"]}:{connection_params[\"password\"]}@{connection_params[\"host\"]}:{connection_params[\"port\"]}/{connection_params[\"database\"]}')"
   ]
  },
  {
   "cell_type": "code",
   "execution_count": 17,
   "id": "b43a9e53",
   "metadata": {},
   "outputs": [
    {
     "data": {
      "text/plain": [
       "31"
      ]
     },
     "execution_count": 17,
     "metadata": {},
     "output_type": "execute_result"
    }
   ],
   "source": [
    "Olympic_Athlete.to_sql('Olympic_Athlete', con=engine, index=False, if_exists='replace')"
   ]
  },
  {
   "cell_type": "code",
   "execution_count": 19,
   "id": "be273a09",
   "metadata": {},
   "outputs": [
    {
     "data": {
      "text/plain": [
       "807"
      ]
     },
     "execution_count": 19,
     "metadata": {},
     "output_type": "execute_result"
    }
   ],
   "source": [
    "Olympic_Games_Medal_Tally.to_sql('Olympic_Games_Medal_Tally', con=engine, index=False, if_exists='replace')"
   ]
  },
  {
   "cell_type": "code",
   "execution_count": 20,
   "id": "5a1a3382",
   "metadata": {},
   "outputs": [
    {
     "data": {
      "text/plain": [
       "329"
      ]
     },
     "execution_count": 20,
     "metadata": {},
     "output_type": "execute_result"
    }
   ],
   "source": [
    "Olympic_Results.to_sql('Olympic_Results', con=engine, index=False, if_exists='replace')"
   ]
  },
  {
   "cell_type": "code",
   "execution_count": 22,
   "id": "5f2418ee",
   "metadata": {},
   "outputs": [
    {
     "data": {
      "text/plain": [
       "234"
      ]
     },
     "execution_count": 22,
     "metadata": {},
     "output_type": "execute_result"
    }
   ],
   "source": [
    "Olympics_Country.to_sql('Olympic_Country', con=engine, index=False, if_exists='replace')"
   ]
  },
  {
   "cell_type": "code",
   "execution_count": 23,
   "id": "d5f01dfd",
   "metadata": {},
   "outputs": [
    {
     "data": {
      "text/plain": [
       "64"
      ]
     },
     "execution_count": 23,
     "metadata": {},
     "output_type": "execute_result"
    }
   ],
   "source": [
    "Olympics_Games.to_sql('Olympic_Games', con=engine, index=False, if_exists='replace')"
   ]
  },
  {
   "cell_type": "code",
   "execution_count": 25,
   "id": "814e35fd",
   "metadata": {},
   "outputs": [],
   "source": [
    "connection.close()"
   ]
  },
  {
   "cell_type": "code",
   "execution_count": null,
   "id": "9d1db63c",
   "metadata": {},
   "outputs": [],
   "source": []
  }
 ],
 "metadata": {
  "kernelspec": {
   "display_name": "Python 3 (ipykernel)",
   "language": "python",
   "name": "python3"
  },
  "language_info": {
   "codemirror_mode": {
    "name": "ipython",
    "version": 3
   },
   "file_extension": ".py",
   "mimetype": "text/x-python",
   "name": "python",
   "nbconvert_exporter": "python",
   "pygments_lexer": "ipython3",
   "version": "3.11.5"
  }
 },
 "nbformat": 4,
 "nbformat_minor": 5
}
