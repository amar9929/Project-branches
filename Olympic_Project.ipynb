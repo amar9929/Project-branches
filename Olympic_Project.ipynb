{
 "cells": [
  {
   "cell_type": "markdown",
   "metadata": {},
   "source": [
    "# Olympic Project - road to gold"
   ]
  },
  {
   "cell_type": "markdown",
   "metadata": {},
   "source": [
    "## Questions:\n",
    " 1. How has the performance of athletes changed based on gender, and has this led to a reduction in the performance gap?\n",
    " 2. Can past Olympic results reliably predict future outcomes?\n",
    "\n",
    "## Hypothesis:\n"
   ]
  }
 ],
 "metadata": {
  "kernelspec": {
   "display_name": "base",
   "language": "python",
   "name": "python3"
  },
  "language_info": {
   "name": "python",
   "version": "3.11.5"
  }
 },
 "nbformat": 4,
 "nbformat_minor": 2
}
