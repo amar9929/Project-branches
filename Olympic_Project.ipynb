{
 "cells": [
  {
   "cell_type": "markdown",
   "metadata": {},
   "source": [
    "# Olympic Project - road to gold"
   ]
  },
  {
   "cell_type": "markdown",
   "metadata": {},
   "source": [
    "## Questions:\n",
    " 1. How has the performance of athletes changed based on gender, and has this led to a reduction in the performance gap?\n",
    " 2. Can past Olympic results reliably predict future outcomes?\n",
    "\n",
    "## Hypothesis:\n"
   ]
  },
  {
   "cell_type": "markdown",
   "metadata": {},
   "source": [
    "# Olympic performance\n"
   ]
  },
  {
   "cell_type": "code",
   "execution_count": 2,
   "metadata": {},
   "outputs": [],
   "source": [
    "#import of the data frame\n",
    "from selenium import webdriver \n",
    "import time\n",
    "from bs4 import BeautifulSoup\n",
    "import requests\n",
    "import pandas as pd\n"
   ]
  },
  {
   "cell_type": "code",
   "execution_count": 156,
   "metadata": {},
   "outputs": [],
   "source": [
    "#setting the first page\n",
    "driver = webdriver.Chrome()\n",
    "driver.get('https://olympics.com/en/olympic-games/beijing-2022/results/alpine-skiing/men-alpine-combined')\n",
    "cookies_button = driver.find_element('css selector','#onetrust-accept-btn-handler')\n",
    "cookies_button.click()\n",
    "time.sleep(2)"
   ]
  },
  {
   "cell_type": "code",
   "execution_count": 147,
   "metadata": {},
   "outputs": [],
   "source": [
    "#select the Olympic Game\n",
    "button_games = driver.find_element('css selector','button[data-cy=game-select]')\n",
    "button_games.click()\n",
    "all_games = driver.find_element('css selector','div [data-cy=\"game-list-wrapper\"]')\n",
    "first_game = all_games.find_elements('css selector','button [data-cy]')[4]\n",
    "first_game.click()"
   ]
  },
  {
   "cell_type": "code",
   "execution_count": 148,
   "metadata": {},
   "outputs": [],
   "source": [
    "#Select the dicipline in the Olympic Game selected\n",
    "button_discipline = driver.find_element('css selector', 'button[data-cy=discipline-select]')\n",
    "button_discipline.click()\n",
    "all_disciplines = driver.find_element('css selector','section [data-cy=\"disciplines-list\"]')\n",
    "first_discipline = all_disciplines.find_elements('css selector','button')[6]\n",
    "first_discipline.click()"
   ]
  },
  {
   "cell_type": "code",
   "execution_count": 40,
   "metadata": {},
   "outputs": [],
   "source": [
    "#select the event in the dicipline selected\n",
    "button_event = driver.find_element('css selector','button[data-cy=event-select]')\n",
    "button_event.click()\n",
    "event = driver.find_elements('css selector','button[data-cy=event-button]')[2]\n",
    "event.click()"
   ]
  },
  {
   "cell_type": "code",
   "execution_count": 41,
   "metadata": {},
   "outputs": [],
   "source": [
    "#Go to the result of the event selected\n",
    "button_go = driver.find_element('css selector','a[data-cy=go-link]')\n",
    "button_go.click()"
   ]
  },
  {
   "cell_type": "markdown",
   "metadata": {},
   "source": [
    "# Getting the imformation"
   ]
  },
  {
   "cell_type": "code",
   "execution_count": 3,
   "metadata": {},
   "outputs": [],
   "source": [
    "#import of the data frame\n",
    "from selenium import webdriver \n",
    "import time\n",
    "from bs4 import BeautifulSoup\n",
    "import requests\n",
    "import pandas as pd"
   ]
  },
  {
   "cell_type": "code",
   "execution_count": 4,
   "metadata": {},
   "outputs": [],
   "source": [
    "def info_extraction(soup):\n",
    "    ''' to complete'''\n",
    "    #location and indentification of the required information\n",
    "    table = soup.find('div',attrs={'data-cy':'table-content'})\n",
    "    rows = table.find_all('div',attrs={'data-row-id':True})\n",
    "    #list of the info to capture\n",
    "    countries = []\n",
    "    participant=[]\n",
    "    results=[]\n",
    "    #loop to extract all events information of the dicipline selected\n",
    "    for row in rows:\n",
    "        try:\n",
    "            countries.append(row.find('span',attrs={'class':'styles__CountryName-sc-1r5phm6-1 eQULfE'}).text)\n",
    "        except:\n",
    "            countries.append(None)\n",
    "        try:\n",
    "            participant.append(row.find('h3',attrs={'data-cy':'athlete-name'}).text)\n",
    "        except:\n",
    "            participant.append(None)\n",
    "        try:\n",
    "            results.append(row.find('span',attrs={'data-cy':'result-info-content'}).text)\n",
    "        except:\n",
    "            results.append(None)\n",
    "    info_event=pd.DataFrame({'country':countries,'participant':participant,'result':results})\n",
    "    #add a column with the olympics games name\n",
    "    olympicg= soup.find('button',attrs={'data-cy':'game-select'}).text\n",
    "    info_event['olympic_game']=olympicg\n",
    "    #add a column with the dicipline name\n",
    "    discipline=soup.find('button',attrs={'data-cy':'discipline-select'}).text\n",
    "    info_event['discipline']=discipline\n",
    "    #add a column with the event name\n",
    "    event=soup.find('button',attrs={'data-cy':'event-select'}).text\n",
    "    info_event['event']=event\n",
    "    #return the entire dataset with all the required information\n",
    "    return info_event"
   ]
  },
  {
   "cell_type": "code",
   "execution_count": 5,
   "metadata": {},
   "outputs": [],
   "source": [
    "def data_grab(url):\n",
    "    ''' to complete'''\n",
    "    #create the list with the required information\n",
    "    final_result=[]\n",
    "    #calculate the number of event in the dicipline selected\n",
    "    driver.get(url)\n",
    "    time.sleep(5)\n",
    "    button_event = driver.find_element('css selector','button[data-cy=event-select]')\n",
    "    button_event.click()\n",
    "    events = len(driver.find_elements('css selector','button[data-cy=event-button]'))\n",
    "    button_event.click()\n",
    "    #loop to go though all the url and grab the required information or print the url where it did't work\n",
    "    try:    \n",
    "        for i in range(events):\n",
    "            button_event = driver.find_element('css selector','button[data-cy=event-select]')\n",
    "            button_event.click()\n",
    "            eventfor=driver.find_elements('css selector','button[data-cy=event-button]')\n",
    "            eventfor=eventfor[i]\n",
    "            eventfor.click()\n",
    "            #Go to the result of the event selected\n",
    "            button_go = driver.find_element('css selector','a[data-cy=go-link]')\n",
    "            button_go.click()\n",
    "            time.sleep(5)\n",
    "            soup= BeautifulSoup(driver.page_source)\n",
    "            final_result.append(info_extraction(soup))\n",
    "        pd.concat(final_result).to_csv(url.split('olympic-games/')[1].replace('/','_')+'.csv')\n",
    "    except:\n",
    "        print(url)"
   ]
  },
  {
   "cell_type": "code",
   "execution_count": 10,
   "metadata": {},
   "outputs": [
    {
     "name": "stdout",
     "output_type": "stream",
     "text": [
      "https://olympics.com/en/olympic-games/tokyo-2020/results/athletics\n",
      "https://olympics.com/en/olympic-games/rio-2016/results/athletics\n",
      "https://olympics.com/en/olympic-games/london-2012/results/athletics\n",
      "https://olympics.com/en/olympic-games/beijing-2008/results/athletics\n",
      "https://olympics.com/en/olympic-games/beijing-2008/results/cycling-road\n",
      "https://olympics.com/en/olympic-games/athens-2004/results/athletics\n",
      "https://olympics.com/en/olympic-games/sydney-2000/results/athletics\n",
      "https://olympics.com/en/olympic-games/atlanta-1996/results/athletics\n",
      "https://olympics.com/en/olympic-games/barcelona-1992/results/athletics\n",
      "https://olympics.com/en/olympic-games/seoul-1988/results/athletics\n",
      "https://olympics.com/en/olympic-games/los-angeles-1984/results/athletics\n",
      "https://olympics.com/en/olympic-games/moscow-1980/results/shooting\n",
      "https://olympics.com/en/olympic-games/moscow-1980/results/wrestling\n"
     ]
    },
    {
     "ename": "WebDriverException",
     "evalue": "Message: disconnected: not connected to DevTools\n  (failed to check if window was closed: disconnected: not connected to DevTools)\n  (Session info: chrome=120.0.6099.109)\nStacktrace:\n\tGetHandleVerifier [0x00007FF7A3524D02+56194]\n\t(No symbol) [0x00007FF7A34904B2]\n\t(No symbol) [0x00007FF7A33376AA]\n\t(No symbol) [0x00007FF7A331FD6A]\n\t(No symbol) [0x00007FF7A331FC20]\n\t(No symbol) [0x00007FF7A33399A1]\n\t(No symbol) [0x00007FF7A33C2047]\n\t(No symbol) [0x00007FF7A33A5C23]\n\t(No symbol) [0x00007FF7A3374A45]\n\t(No symbol) [0x00007FF7A3375AD4]\n\tGetHandleVerifier [0x00007FF7A389D5BB+3695675]\n\tGetHandleVerifier [0x00007FF7A38F6197+4059159]\n\tGetHandleVerifier [0x00007FF7A38EDF63+4025827]\n\tGetHandleVerifier [0x00007FF7A35BF029+687785]\n\t(No symbol) [0x00007FF7A349B508]\n\t(No symbol) [0x00007FF7A3497564]\n\t(No symbol) [0x00007FF7A34976E9]\n\t(No symbol) [0x00007FF7A3488094]\n\tBaseThreadInitThunk [0x00007FF81DD5257D+29]\n\tRtlUserThreadStart [0x00007FF81F1CAA58+40]\n",
     "output_type": "error",
     "traceback": [
      "\u001b[1;31m---------------------------------------------------------------------------\u001b[0m",
      "\u001b[1;31mWebDriverException\u001b[0m                        Traceback (most recent call last)",
      "Cell \u001b[1;32mIn[10], line 8\u001b[0m\n\u001b[0;32m      6\u001b[0m cookies_button\u001b[38;5;241m.\u001b[39mclick()\n\u001b[0;32m      7\u001b[0m time\u001b[38;5;241m.\u001b[39msleep(\u001b[38;5;241m5\u001b[39m)\n\u001b[1;32m----> 8\u001b[0m \u001b[38;5;28mlist\u001b[39m(\u001b[38;5;28mmap\u001b[39m(data_grab,url_list))\n",
      "Cell \u001b[1;32mIn[7], line 6\u001b[0m, in \u001b[0;36mdata_grab\u001b[1;34m(url)\u001b[0m\n\u001b[0;32m      4\u001b[0m final_result\u001b[38;5;241m=\u001b[39m[]\n\u001b[0;32m      5\u001b[0m \u001b[38;5;66;03m#calculate the number of event in the dicipline selected\u001b[39;00m\n\u001b[1;32m----> 6\u001b[0m driver\u001b[38;5;241m.\u001b[39mget(url)\n\u001b[0;32m      7\u001b[0m time\u001b[38;5;241m.\u001b[39msleep(\u001b[38;5;241m5\u001b[39m)\n\u001b[0;32m      8\u001b[0m button_event \u001b[38;5;241m=\u001b[39m driver\u001b[38;5;241m.\u001b[39mfind_element(\u001b[38;5;124m'\u001b[39m\u001b[38;5;124mcss selector\u001b[39m\u001b[38;5;124m'\u001b[39m,\u001b[38;5;124m'\u001b[39m\u001b[38;5;124mbutton[data-cy=event-select]\u001b[39m\u001b[38;5;124m'\u001b[39m)\n",
      "File \u001b[1;32m~\\AppData\\Roaming\\Python\\Python311\\site-packages\\selenium\\webdriver\\remote\\webdriver.py:357\u001b[0m, in \u001b[0;36mWebDriver.get\u001b[1;34m(self, url)\u001b[0m\n\u001b[0;32m    355\u001b[0m \u001b[38;5;28;01mdef\u001b[39;00m \u001b[38;5;21mget\u001b[39m(\u001b[38;5;28mself\u001b[39m, url: \u001b[38;5;28mstr\u001b[39m) \u001b[38;5;241m-\u001b[39m\u001b[38;5;241m>\u001b[39m \u001b[38;5;28;01mNone\u001b[39;00m:\n\u001b[0;32m    356\u001b[0m \u001b[38;5;250m    \u001b[39m\u001b[38;5;124;03m\"\"\"Loads a web page in the current browser session.\"\"\"\u001b[39;00m\n\u001b[1;32m--> 357\u001b[0m     \u001b[38;5;28mself\u001b[39m\u001b[38;5;241m.\u001b[39mexecute(Command\u001b[38;5;241m.\u001b[39mGET, {\u001b[38;5;124m\"\u001b[39m\u001b[38;5;124murl\u001b[39m\u001b[38;5;124m\"\u001b[39m: url})\n",
      "File \u001b[1;32m~\\AppData\\Roaming\\Python\\Python311\\site-packages\\selenium\\webdriver\\remote\\webdriver.py:348\u001b[0m, in \u001b[0;36mWebDriver.execute\u001b[1;34m(self, driver_command, params)\u001b[0m\n\u001b[0;32m    346\u001b[0m response \u001b[38;5;241m=\u001b[39m \u001b[38;5;28mself\u001b[39m\u001b[38;5;241m.\u001b[39mcommand_executor\u001b[38;5;241m.\u001b[39mexecute(driver_command, params)\n\u001b[0;32m    347\u001b[0m \u001b[38;5;28;01mif\u001b[39;00m response:\n\u001b[1;32m--> 348\u001b[0m     \u001b[38;5;28mself\u001b[39m\u001b[38;5;241m.\u001b[39merror_handler\u001b[38;5;241m.\u001b[39mcheck_response(response)\n\u001b[0;32m    349\u001b[0m     response[\u001b[38;5;124m\"\u001b[39m\u001b[38;5;124mvalue\u001b[39m\u001b[38;5;124m\"\u001b[39m] \u001b[38;5;241m=\u001b[39m \u001b[38;5;28mself\u001b[39m\u001b[38;5;241m.\u001b[39m_unwrap_value(response\u001b[38;5;241m.\u001b[39mget(\u001b[38;5;124m\"\u001b[39m\u001b[38;5;124mvalue\u001b[39m\u001b[38;5;124m\"\u001b[39m, \u001b[38;5;28;01mNone\u001b[39;00m))\n\u001b[0;32m    350\u001b[0m     \u001b[38;5;28;01mreturn\u001b[39;00m response\n",
      "File \u001b[1;32m~\\AppData\\Roaming\\Python\\Python311\\site-packages\\selenium\\webdriver\\remote\\errorhandler.py:229\u001b[0m, in \u001b[0;36mErrorHandler.check_response\u001b[1;34m(self, response)\u001b[0m\n\u001b[0;32m    227\u001b[0m         alert_text \u001b[38;5;241m=\u001b[39m value[\u001b[38;5;124m\"\u001b[39m\u001b[38;5;124malert\u001b[39m\u001b[38;5;124m\"\u001b[39m]\u001b[38;5;241m.\u001b[39mget(\u001b[38;5;124m\"\u001b[39m\u001b[38;5;124mtext\u001b[39m\u001b[38;5;124m\"\u001b[39m)\n\u001b[0;32m    228\u001b[0m     \u001b[38;5;28;01mraise\u001b[39;00m exception_class(message, screen, stacktrace, alert_text)  \u001b[38;5;66;03m# type: ignore[call-arg]  # mypy is not smart enough here\u001b[39;00m\n\u001b[1;32m--> 229\u001b[0m \u001b[38;5;28;01mraise\u001b[39;00m exception_class(message, screen, stacktrace)\n",
      "\u001b[1;31mWebDriverException\u001b[0m: Message: disconnected: not connected to DevTools\n  (failed to check if window was closed: disconnected: not connected to DevTools)\n  (Session info: chrome=120.0.6099.109)\nStacktrace:\n\tGetHandleVerifier [0x00007FF7A3524D02+56194]\n\t(No symbol) [0x00007FF7A34904B2]\n\t(No symbol) [0x00007FF7A33376AA]\n\t(No symbol) [0x00007FF7A331FD6A]\n\t(No symbol) [0x00007FF7A331FC20]\n\t(No symbol) [0x00007FF7A33399A1]\n\t(No symbol) [0x00007FF7A33C2047]\n\t(No symbol) [0x00007FF7A33A5C23]\n\t(No symbol) [0x00007FF7A3374A45]\n\t(No symbol) [0x00007FF7A3375AD4]\n\tGetHandleVerifier [0x00007FF7A389D5BB+3695675]\n\tGetHandleVerifier [0x00007FF7A38F6197+4059159]\n\tGetHandleVerifier [0x00007FF7A38EDF63+4025827]\n\tGetHandleVerifier [0x00007FF7A35BF029+687785]\n\t(No symbol) [0x00007FF7A349B508]\n\t(No symbol) [0x00007FF7A3497564]\n\t(No symbol) [0x00007FF7A34976E9]\n\t(No symbol) [0x00007FF7A3488094]\n\tBaseThreadInitThunk [0x00007FF81DD5257D+29]\n\tRtlUserThreadStart [0x00007FF81F1CAA58+40]\n"
     ]
    }
   ],
   "source": [
    "url_list=pd.read_csv('olympics_url.csv').iloc[:,1].to_list()\n",
    "driver = webdriver.Chrome()\n",
    "driver.get('https://olympics.com/en/olympic-games/beijing-2022/results/alpine-skiing')\n",
    "time.sleep(5)\n",
    "cookies_button = driver.find_element('css selector','#onetrust-accept-btn-handler')\n",
    "cookies_button.click()\n",
    "time.sleep(5)\n",
    "list(map(data_grab,url_list))"
   ]
  },
  {
   "cell_type": "markdown",
   "metadata": {},
   "source": [
    "1. Connect (sucessfully) with the website - requests\n",
    "2. Transforming the data from string to searchable object - make the soup!\n",
    "3. Find out what data I need and locate it in the website -  soup.find_all or soup.select\n",
    "4. Transform data to put it in a dataframe - pd.DataFrame\n",
    "5. Create the spider to apply code for several pages - for loop"
   ]
  },
  {
   "cell_type": "markdown",
   "metadata": {},
   "source": []
  },
  {
   "cell_type": "code",
   "execution_count": 6,
   "metadata": {},
   "outputs": [],
   "source": [
    "import os"
   ]
  },
  {
   "cell_type": "code",
   "execution_count": 8,
   "metadata": {},
   "outputs": [],
   "source": [
    "csv_list=os.listdir()"
   ]
  },
  {
   "cell_type": "code",
   "execution_count": 15,
   "metadata": {},
   "outputs": [],
   "source": [
    "csv_list = [pd.read_csv(fil) for fil in os.listdir() if fil.endswith('swimming.csv') or fil.endswith('weightlifting.csv') or fil.endswith('athletics.csv')]\n",
    "data_olympic=pd.concat(csv_list)"
   ]
  },
  {
   "cell_type": "code",
   "execution_count": 16,
   "metadata": {},
   "outputs": [
    {
     "data": {
      "text/plain": [
       "array(['Athletics', 'Swimming', 'Weightlifting', 'Marathon Swimming',\n",
       "       'Artistic Swimming'], dtype=object)"
      ]
     },
     "execution_count": 16,
     "metadata": {},
     "output_type": "execute_result"
    }
   ],
   "source": [
    "data_olympic['discipline'].unique()"
   ]
  },
  {
   "cell_type": "code",
   "execution_count": 11,
   "metadata": {},
   "outputs": [
    {
     "data": {
      "text/plain": [
       "list"
      ]
     },
     "execution_count": 11,
     "metadata": {},
     "output_type": "execute_result"
    }
   ],
   "source": [
    "type(csv_list)"
   ]
  }
 ],
 "metadata": {
  "kernelspec": {
   "display_name": "base",
   "language": "python",
   "name": "python3"
  },
  "language_info": {
   "codemirror_mode": {
    "name": "ipython",
    "version": 3
   },
   "file_extension": ".py",
   "mimetype": "text/x-python",
   "name": "python",
   "nbconvert_exporter": "python",
   "pygments_lexer": "ipython3",
   "version": "3.11.5"
  }
 },
 "nbformat": 4,
 "nbformat_minor": 2
}
