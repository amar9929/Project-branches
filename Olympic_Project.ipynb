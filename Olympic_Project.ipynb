{
 "cells": [
  {
   "cell_type": "markdown",
   "metadata": {},
   "source": [
    "# Olympic Project - road to gold"
   ]
  },
  {
   "cell_type": "markdown",
   "metadata": {},
   "source": [
    "## Questions:\n",
    " 1. How has the performance of athletes changed based on gender, and has this led to a reduction in the performance gap?\n",
    " 2. Can past Olympic results reliably predict future outcomes?\n",
    "\n",
    "## Hypothesis:\n"
   ]
  },
  {
   "cell_type": "markdown",
   "metadata": {},
   "source": [
    "# 2. past to future"
   ]
  },
  {
   "cell_type": "code",
   "execution_count": 1,
   "metadata": {},
   "outputs": [],
   "source": [
    "import pandas as pd"
   ]
  },
  {
   "cell_type": "code",
   "execution_count": 16,
   "metadata": {},
   "outputs": [],
   "source": [
    "olympic_athlete_bio=pd.read_csv('Olympic_Athlete_Bio.csv',index_col=False)\n",
    "olympic_athlete_event_results=pd.read_csv('Olympic_Athlete_Event_Results.csv',index_col=False)\n",
    "olympic_games_medal_tally=pd.read_csv('Olympic_Games_Medal_Tally.csv',index_col=False)\n",
    "olympic_results=pd.read_csv('Olympic_Results.csv',index_col=False)\n",
    "olympic_country=pd.read_csv('Olympics_Country.csv',index_col=False)\n",
    "olympic_games=pd.read_csv('Olympics_Games.csv',index_col=False)"
   ]
  },
  {
   "cell_type": "code",
   "execution_count": 49,
   "metadata": {},
   "outputs": [],
   "source": [
    "mergedataset=pd.merge(olympic_athlete_event_results,olympic_athlete_bio.drop(columns=['name','country_noc']),on='athlete_id',how='left')\n",
    "mergedataset=pd.merge(mergedataset,olympic_results.drop(columns=['event_title','edition','edition_id','sport']),on='result_id',how='left')\n",
    "mergedataset=pd.merge(mergedataset,olympic_games.drop(columns=['country_noc','country_flag_url','edition_url','edition']),on='edition_id',how='left')\n",
    "mergedataset=pd.merge(mergedataset,olympic_games_medal_tally.drop(columns=['edition','country','country_noc','edition']),on='edition_id',how='left')"
   ]
  },
  {
   "cell_type": "markdown",
   "metadata": {},
   "source": [
    "1. The mergin is not hard. see code above\n",
    "2. we need to decide which data we need and what data are we going to use.\n",
    "3. depending on the data that we want to use to merge can be done differently\n",
    "4. for medal count the merge is posible but we need to be careful during the analysis to not doble count\n",
    "5. olympiics_country may not be neccesary"
   ]
  },
  {
   "cell_type": "markdown",
   "metadata": {},
   "source": []
  }
 ],
 "metadata": {
  "kernelspec": {
   "display_name": "base",
   "language": "python",
   "name": "python3"
  },
  "language_info": {
   "codemirror_mode": {
    "name": "ipython",
    "version": 3
   },
   "file_extension": ".py",
   "mimetype": "text/x-python",
   "name": "python",
   "nbconvert_exporter": "python",
   "pygments_lexer": "ipython3",
   "version": "3.11.5"
  }
 },
 "nbformat": 4,
 "nbformat_minor": 2
}
