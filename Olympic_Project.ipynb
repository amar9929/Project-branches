{
 "cells": [
  {
   "cell_type": "markdown",
   "metadata": {},
   "source": [
    "# Olympic Project - road to gold"
   ]
  },
  {
   "cell_type": "markdown",
   "metadata": {},
   "source": [
    "## Questions:\n",
    " 1. How has the performance of athletes changed based on gender, and has this led to a reduction in the performance gap?\n",
    " 2. Can past Olympic results reliably predict future outcomes?\n",
    "\n",
    "## Hypothesis:\n"
   ]
  },
  {
   "cell_type": "markdown",
   "metadata": {},
   "source": [
    "# Olympic performance\n"
   ]
  },
  {
   "cell_type": "code",
   "execution_count": 112,
   "metadata": {},
   "outputs": [],
   "source": [
    "from selenium import webdriver \n",
    "\n",
    "driver = webdriver.Chrome()\n",
    "driver.get('https://olympics.com/en/olympic-games/beijing-2022/results/alpine-skiing/men-alpine-combined')# replaces requests.get, does connection to the url"
   ]
  },
  {
   "cell_type": "code",
   "execution_count": 147,
   "metadata": {},
   "outputs": [],
   "source": [
    "#select the Olympic Game\n",
    "button_games = driver.find_element('css selector','button[data-cy=game-select]')\n",
    "button_games.click()\n",
    "all_games = driver.find_element('css selector','div [data-cy=\"game-list-wrapper\"]')\n",
    "first_game = all_games.find_elements('css selector','button [data-cy]')[4]\n",
    "first_game.click()"
   ]
  },
  {
   "cell_type": "code",
   "execution_count": 148,
   "metadata": {},
   "outputs": [],
   "source": [
    "#Select the dicipline in the Olympic Game selected\n",
    "button_discipline = driver.find_element('css selector', 'button[data-cy=discipline-select]')\n",
    "button_discipline.click()\n",
    "all_disciplines = driver.find_element('css selector','section [data-cy=\"disciplines-list\"]')\n",
    "first_discipline = all_disciplines.find_elements('css selector','button')[6]\n",
    "first_discipline.click()"
   ]
  },
  {
   "cell_type": "code",
   "execution_count": 149,
   "metadata": {},
   "outputs": [],
   "source": [
    "#select the event in the dicipline selected\n",
    "button_event = driver.find_element('css selector','button[data-cy=event-select]')\n",
    "button_event.click()\n",
    "event = driver.find_elements('css selector','button[data-cy=event-button]')[2]\n",
    "event.click()"
   ]
  },
  {
   "cell_type": "code",
   "execution_count": 150,
   "metadata": {},
   "outputs": [],
   "source": [
    "#Go to the result of the event selected\n",
    "button_go = driver.find_element('css selector','a[data-cy=go-link]')\n",
    "button_go.click()"
   ]
  }
 ],
 "metadata": {
  "kernelspec": {
   "display_name": "base",
   "language": "python",
   "name": "python3"
  },
  "language_info": {
   "codemirror_mode": {
    "name": "ipython",
    "version": 3
   },
   "file_extension": ".py",
   "mimetype": "text/x-python",
   "name": "python",
   "nbconvert_exporter": "python",
   "pygments_lexer": "ipython3",
   "version": "3.11.5"
  }
 },
 "nbformat": 4,
 "nbformat_minor": 2
}
